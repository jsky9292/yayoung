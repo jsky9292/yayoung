{
 "cells": [
  {
   "cell_type": "markdown",
   "metadata": {},
   "source": [
    "# 다음 카페 크롤링 단계별 테스트\n",
    "야용사 카페에서 글러브 게시글 수집"
   ]
  },
  {
   "cell_type": "code",
   "execution_count": null,
   "metadata": {},
   "outputs": [],
   "source": [
    "from selenium import webdriver\n",
    "from selenium.webdriver.common.by import By\n",
    "from selenium.webdriver.support.ui import WebDriverWait\n",
    "from selenium.webdriver.support import expected_conditions as EC\n",
    "from selenium.common.exceptions import TimeoutException, NoSuchElementException\n",
    "import time\n",
    "import json\n",
    "import os"
   ]
  },
  {
   "cell_type": "code",
   "execution_count": null,
   "metadata": {},
   "outputs": [],
   "source": [
    "# 1. Chrome 드라이버 설정\n",
    "options = webdriver.ChromeOptions()\n",
    "options.add_argument('--disable-blink-features=AutomationControlled')\n",
    "options.add_experimental_option(\"excludeSwitches\", [\"enable-automation\"])\n",
    "options.add_experimental_option('useAutomationExtension', False)\n",
    "options.add_argument(\"user-agent=Mozilla/5.0 (Windows NT 10.0; Win64; x64) AppleWebKit/537.36\")\n",
    "options.add_experimental_option(\"detach\", True)\n",
    "\n",
    "driver = webdriver.Chrome(options=options)\n",
    "print(\"✅ Chrome 드라이버 생성 완료\")"
   ]
  },
  {
   "cell_type": "code",
   "execution_count": null,
   "metadata": {},
   "outputs": [],
   "source": [
    "# 2. 야용사 카페로 이동\n",
    "driver.get(\"https://cafe.daum.net/baseballsale\")\n",
    "time.sleep(3)\n",
    "print(\"✅ 야용사 카페 접속 완료\")\n",
    "print(f\"현재 URL: {driver.current_url}\")"
   ]
  },
  {
   "cell_type": "code",
   "execution_count": null,
   "metadata": {},
   "outputs": [],
   "source": [
    "# 3. 수동 로그인 대기\n",
    "print(\"\\n🔑 다음 카카오 계정으로 로그인해주세요...\")\n",
    "print(\"   로그인 완료 후 엔터를 누르세요\")\n",
    "input(\"로그인 완료 후 엔터: \")\n",
    "print(\"✅ 로그인 확인\")"
   ]
  },
  {
   "cell_type": "code",
   "execution_count": null,
   "metadata": {},
   "outputs": [],
   "source": [
    "# 4. 중고글러브벼룩시장 게시판으로 이동\n",
    "board_url = \"https://cafe.daum.net/baseballsale/79XF\"\n",
    "driver.get(board_url)\n",
    "time.sleep(3)\n",
    "print(f\"✅ 중고글러브벼룩시장 게시판 접속\")\n",
    "print(f\"현재 URL: {driver.current_url}\")"
   ]
  },
  {
   "cell_type": "code",
   "execution_count": null,
   "metadata": {},
   "outputs": [],
   "source": [
    "# 5. iframe 찾기\n",
    "iframe_found = False\n",
    "iframe_ids = [\"cafe_main\", \"down\", \"cafe_content\"]\n",
    "\n",
    "for iframe_id in iframe_ids:\n",
    "    try:\n",
    "        iframe = driver.find_element(By.ID, iframe_id)\n",
    "        driver.switch_to.frame(iframe)\n",
    "        print(f\"✅ iframe 전환 성공: {iframe_id}\")\n",
    "        iframe_found = True\n",
    "        break\n",
    "    except:\n",
    "        print(f\"❌ iframe 찾기 실패: {iframe_id}\")\n",
    "        continue\n",
    "\n",
    "if not iframe_found:\n",
    "    print(\"⚠️ iframe을 찾지 못했지만 계속 진행합니다...\")"
   ]
  },
  {
   "cell_type": "code",
   "execution_count": null,
   "metadata": {},
   "outputs": [],
   "source": [
    "# 6. 게시글 목록 찾기 - 다양한 셀렉터 시도\n",
    "articles = []\n",
    "\n",
    "# 시도 1: table.bbsList\n",
    "articles = driver.find_elements(By.CSS_SELECTOR, \"table.bbsList tbody tr\")\n",
    "print(f\"셀렉터 1 (table.bbsList tbody tr): {len(articles)}개\")\n",
    "\n",
    "if not articles:\n",
    "    # 시도 2: 일반 table\n",
    "    articles = driver.find_elements(By.CSS_SELECTOR, \"table tbody tr\")\n",
    "    print(f\"셀렉터 2 (table tbody tr): {len(articles)}개\")\n",
    "\n",
    "if not articles:\n",
    "    # 시도 3: 모든 tr\n",
    "    articles = driver.find_elements(By.TAG_NAME, \"tr\")\n",
    "    print(f\"셀렉터 3 (모든 tr): {len(articles)}개\")\n",
    "    # 필터링\n",
    "    articles = [a for a in articles if a.text and '공지' not in a.text and '번호' not in a.text]\n",
    "    print(f\"필터링 후: {len(articles)}개\")"
   ]
  },
  {
   "cell_type": "code",
   "execution_count": null,
   "metadata": {},
   "outputs": [],
   "source": [
    "# 7. HTML 구조 디버깅\n",
    "print(\"\\n=== HTML 구조 분석 ===\")\n",
    "\n",
    "# 페이지 소스 확인\n",
    "page_source = driver.page_source[:2000]\n",
    "if 'bbsList' in page_source:\n",
    "    print(\"✅ bbsList 클래스 발견\")\n",
    "if 'listBody' in page_source:\n",
    "    print(\"✅ listBody ID 발견\")\n",
    "\n",
    "# 테이블 확인\n",
    "tables = driver.find_elements(By.TAG_NAME, \"table\")\n",
    "print(f\"\\n전체 table 수: {len(tables)}\")\n",
    "for i, table in enumerate(tables[:3]):\n",
    "    class_name = table.get_attribute(\"class\")\n",
    "    print(f\"  Table {i+1}: class='{class_name}'\")\n",
    "\n",
    "# 링크 확인\n",
    "links = driver.find_elements(By.CSS_SELECTOR, \"a[href*='/baseballsale/']\")\n",
    "print(f\"\\n게시글 링크 수: {len(links)}\")\n",
    "for i, link in enumerate(links[:5]):\n",
    "    text = link.text.strip()\n",
    "    if text:\n",
    "        print(f\"  링크 {i+1}: {text[:50]}\")"
   ]
  },
  {
   "cell_type": "code",
   "execution_count": null,
   "metadata": {},
   "outputs": [],
   "source": [
    "# 8. 첫 번째 게시글 상세 분석\n",
    "if articles and len(articles) > 0:\n",
    "    print(\"\\n=== 첫 번째 게시글 분석 ===\")\n",
    "    article = articles[0]\n",
    "    print(f\"전체 텍스트: {article.text[:200]}\")\n",
    "    \n",
    "    # TD 요소들 확인\n",
    "    tds = article.find_elements(By.TAG_NAME, \"td\")\n",
    "    print(f\"\\nTD 개수: {len(tds)}\")\n",
    "    for i, td in enumerate(tds):\n",
    "        print(f\"  TD {i+1}: {td.text.strip()[:30]}\")\n",
    "    \n",
    "    # 링크 확인\n",
    "    try:\n",
    "        link = article.find_element(By.CSS_SELECTOR, \"a\")\n",
    "        print(f\"\\n링크 텍스트: {link.text}\")\n",
    "        print(f\"링크 URL: {link.get_attribute('href')}\")\n",
    "    except:\n",
    "        print(\"\\n링크를 찾을 수 없음\")\n",
    "else:\n",
    "    print(\"게시글을 찾을 수 없습니다!\")"
   ]
  },
  {
   "cell_type": "code",
   "execution_count": null,
   "metadata": {},
   "outputs": [],
   "source": [
    "# 9. 실제 게시글 수집\n",
    "products = []\n",
    "\n",
    "for idx, article in enumerate(articles[:10], 1):\n",
    "    try:\n",
    "        product_data = {}\n",
    "        \n",
    "        # 제목과 링크 찾기\n",
    "        try:\n",
    "            # 가장 일반적인 다음 카페 구조\n",
    "            link = article.find_element(By.CSS_SELECTOR, \"td.title a\")\n",
    "            product_data['title'] = link.text.strip()\n",
    "            product_data['url'] = link.get_attribute('href')\n",
    "        except:\n",
    "            try:\n",
    "                # 대체 방법\n",
    "                link = article.find_element(By.CSS_SELECTOR, \"a[href*='/baseballsale/']\")\n",
    "                product_data['title'] = link.text.strip()\n",
    "                product_data['url'] = link.get_attribute('href')\n",
    "            except:\n",
    "                continue\n",
    "        \n",
    "        # 제목이 없으면 스킵\n",
    "        if not product_data['title']:\n",
    "            continue\n",
    "        \n",
    "        # 공지 제외\n",
    "        if '공지' in product_data['title']:\n",
    "            continue\n",
    "        \n",
    "        # TD 순서로 데이터 추출\n",
    "        tds = article.find_elements(By.TAG_NAME, \"td\")\n",
    "        if len(tds) >= 5:\n",
    "            product_data['author'] = tds[2].text.strip() if len(tds) > 2 else ''\n",
    "            product_data['date'] = tds[3].text.strip() if len(tds) > 3 else ''\n",
    "            product_data['views'] = tds[4].text.strip() if len(tds) > 4 else '0'\n",
    "        else:\n",
    "            product_data['author'] = ''\n",
    "            product_data['date'] = ''\n",
    "            product_data['views'] = '0'\n",
    "        \n",
    "        products.append(product_data)\n",
    "        print(f\"✅ [{idx}] {product_data['title'][:50]}\")\n",
    "        \n",
    "    except Exception as e:\n",
    "        print(f\"❌ [{idx}] 오류: {e}\")\n",
    "        continue\n",
    "\n",
    "print(f\"\\n총 {len(products)}개 게시글 수집 완료\")"
   ]
  },
  {
   "cell_type": "code",
   "execution_count": null,
   "metadata": {},
   "outputs": [],
   "source": [
    "# 10. 수집된 데이터 확인\n",
    "if products:\n",
    "    print(\"\\n=== 수집된 데이터 ===\")\n",
    "    for i, product in enumerate(products[:5], 1):\n",
    "        print(f\"\\n[{i}] {product['title']}\")\n",
    "        print(f\"  작성자: {product.get('author', '미상')}\")\n",
    "        print(f\"  날짜: {product.get('date', '미상')}\")\n",
    "        print(f\"  조회수: {product.get('views', '0')}\")\n",
    "        print(f\"  URL: {product.get('url', '')}\")\n",
    "else:\n",
    "    print(\"수집된 데이터가 없습니다!\")"
   ]
  },
  {
   "cell_type": "code",
   "execution_count": null,
   "metadata": {},
   "outputs": [],
   "source": [
    "# 브라우저 종료 (필요시)\n",
    "# driver.quit()"
   ]
  }
 ],
 "metadata": {
  "kernelspec": {
   "display_name": "Python 3",
   "language": "python",
   "name": "python3"
  },
  "language_info": {
   "codemirror_mode": {
    "name": "ipython",
    "version": 3
   },
   "file_extension": ".py",
   "mimetype": "text/x-python",
   "name": "python",
   "nbconvert_exporter": "python",
   "pygments_lexer": "ipython3",
   "version": "3.8.0"
  }
 },
 "nbformat": 4,
 "nbformat_minor": 4
}